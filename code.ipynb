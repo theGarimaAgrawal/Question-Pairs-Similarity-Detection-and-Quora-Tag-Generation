{
 "cells": [
  {
   "cell_type": "code",
   "execution_count": 3,
   "metadata": {},
   "outputs": [],
   "source": [
    "import warnings\n",
    "warnings.filterwarnings(\"ignore\")\n",
    "import pandas as pd\n",
    "import sqlite3\n",
    "import csv\n",
    "import matplotlib.pyplot as plt\n",
    "import seaborn as sns\n",
    "import numpy as np\n",
    "from wordcloud import WordCloud\n",
    "import re\n",
    "import os\n",
    "from sqlalchemy import create_engine # database connection\n",
    "import datetime as dt\n",
    "import nltk\n",
    "from nltk.corpus import stopwords\n",
    "from nltk.tokenize import word_tokenize\n",
    "from nltk.stem.snowball import SnowballStemmer\n",
    "from sklearn.feature_extraction.text import CountVectorizer\n",
    "from sklearn.feature_extraction.text import TfidfVectorizer\n",
    "from sklearn.multiclass import OneVsRestClassifier\n",
    "from sklearn.linear_model import SGDClassifier\n",
    "from sklearn import metrics\n",
    "from sklearn.metrics import f1_score,precision_score,recall_score\n",
    "from sklearn import svm\n",
    "from sklearn.linear_model import LogisticRegression\n",
    "from skmultilearn.adapt import mlknn\n",
    "from skmultilearn.problem_transform import ClassifierChain\n",
    "from skmultilearn.problem_transform import BinaryRelevance\n",
    "from skmultilearn.problem_transform import LabelPowerset\n",
    "from sklearn.naive_bayes import GaussianNB\n",
    "from datetime import datetime\n"
   ]
  },
  {
   "cell_type": "markdown",
   "metadata": {},
   "source": [
    "Converting csv data to database file"
   ]
  },
  {
   "cell_type": "code",
   "execution_count": 4,
   "metadata": {},
   "outputs": [],
   "source": [
    "if not os.path.isfile('train.db'):\n",
    "    start = datetime.now()\n",
    "    disk_engine = create_engine('sqlite:///train.db')\n",
    "    start = dt.datetime.now()\n",
    "    chunksize = 180000\n",
    "    j = 0\n",
    "    index_start = 1\n",
    "    for df in pd.read_csv('Train.csv', names=['Id', 'Title', 'Body', 'Tags'], chunksize=chunksize, iterator=True, encoding='utf-8', ):\n",
    "        df.index += index_start\n",
    "        j+=1\n",
    "        print('{} rows'.format(j*chunksize))\n",
    "        df.to_sql('data', disk_engine, if_exists='append')\n",
    "        index_start = df.index[-1] + 1\n",
    "    print(\"Time taken to run this cell :\", datetime.now() - start)"
   ]
  },
  {
   "cell_type": "code",
   "execution_count": 5,
   "metadata": {},
   "outputs": [
    {
     "name": "stdout",
     "output_type": "stream",
     "text": [
      "Number of rows in the database : \n",
      " 6034196\n",
      "Time taken to count the number of rows : 0:00:05.051569\n"
     ]
    }
   ],
   "source": [
    "if os.path.isfile('train.db'):\n",
    "    start = datetime.now()\n",
    "    con = sqlite3.connect('train.db')\n",
    "    num_rows = pd.read_sql_query(\"\"\"SELECT count(*) FROM data\"\"\", con)\n",
    "    #Always remember to close the database\n",
    "    print(\"Number of rows in the database :\",\"\\n\",num_rows['count(*)'].values[0])\n",
    "    con.close()\n",
    "    print(\"Time taken to count the number of rows :\", datetime.now() - start)\n",
    "else:\n",
    "    print(\"Please download the train.db file from drive or run the above cell to genarate train.db file\")"
   ]
  },
  {
   "cell_type": "code",
   "execution_count": 6,
   "metadata": {},
   "outputs": [
    {
     "name": "stdout",
     "output_type": "stream",
     "text": [
      "             index       Id  \\\n",
      "0                1       Id   \n",
      "1                2        1   \n",
      "2                3        2   \n",
      "3                4        3   \n",
      "4                5        4   \n",
      "...            ...      ...   \n",
      "6034191  107014192  6034191   \n",
      "6034192  107014193  6034192   \n",
      "6034193  107014194  6034193   \n",
      "6034194  107014195  6034194   \n",
      "6034195  107014196  6034195   \n",
      "\n",
      "                                                     Title  \\\n",
      "0                                                    Title   \n",
      "1        How to check if an uploaded file is an image w...   \n",
      "2        How can I prevent firefox from closing when I ...   \n",
      "3                 R Error Invalid type (list) for variable   \n",
      "4            How do I replace special characters in a URL?   \n",
      "...                                                    ...   \n",
      "6034191                        Parse JSON or XML in Status   \n",
      "6034192              Javascript resize on every image load   \n",
      "6034193                       Update database with big CSV   \n",
      "6034194  Difficulty adding a new view to a Roo-generate...   \n",
      "6034195  Decreasing sequence of closed set in a metric ...   \n",
      "\n",
      "                                                      Body  \\\n",
      "0                                                     Body   \n",
      "1        <p>I'd like to check if an uploaded file is an...   \n",
      "2        <p>In my favorite editor (vim), I regularly us...   \n",
      "3        <p>I am import matlab file and construct a dat...   \n",
      "4        <p>This is probably very simple, but I simply ...   \n",
      "...                                                    ...   \n",
      "6034191  <p>I wonder how Facebook parse the status or c...   \n",
      "6034192  <p>I've got this code:</p>\\n\\n<pre><code>while...   \n",
      "6034193  <p>I need every day update ~ 10.000 items in m...   \n",
      "6034194  <p>I'm trying to add my custom view and contro...   \n",
      "6034195  <p>Let $\\{E_n\\}$ be a collection of bounded an...   \n",
      "\n",
      "                                                      Tags  \n",
      "0                                                     Tags  \n",
      "1        php image-processing file-upload upload mime-t...  \n",
      "2                                                  firefox  \n",
      "3                                r matlab machine-learning  \n",
      "4                                          c# url encoding  \n",
      "...                                                    ...  \n",
      "6034191                           xml facebook json status  \n",
      "6034192                                     php javascript  \n",
      "6034193                       php sql query csv phpmyadmin  \n",
      "6034194             java spring spring-mvc view spring-roo  \n",
      "6034195                     general-topology metric-spaces  \n",
      "\n",
      "[6034196 rows x 5 columns]\n"
     ]
    }
   ],
   "source": [
    "con = sqlite3.connect('train.db')\n",
    "df = pd.read_sql_query('SELECT * FROM data',con)\n",
    "con.close()\n",
    "print(df)"
   ]
  },
  {
   "cell_type": "code",
   "execution_count": 7,
   "metadata": {},
   "outputs": [],
   "source": [
    "if os.path.isfile('train.db'):\n",
    "    con = sqlite3.connect('train.db')\n",
    "    df_no_dup = pd.read_sql_query('SELECT Title, Body, Tags, COUNT(*) as cnt_dup FROM data GROUP BY Title, Body, Tags', con)\n",
    "    con.close()"
   ]
  },
  {
   "cell_type": "code",
   "execution_count": 8,
   "metadata": {},
   "outputs": [
    {
     "data": {
      "text/html": [
       "<div>\n",
       "<style scoped>\n",
       "    .dataframe tbody tr th:only-of-type {\n",
       "        vertical-align: middle;\n",
       "    }\n",
       "\n",
       "    .dataframe tbody tr th {\n",
       "        vertical-align: top;\n",
       "    }\n",
       "\n",
       "    .dataframe thead th {\n",
       "        text-align: right;\n",
       "    }\n",
       "</style>\n",
       "<table border=\"1\" class=\"dataframe\">\n",
       "  <thead>\n",
       "    <tr style=\"text-align: right;\">\n",
       "      <th></th>\n",
       "      <th>Title</th>\n",
       "      <th>Body</th>\n",
       "      <th>Tags</th>\n",
       "      <th>cnt_dup</th>\n",
       "    </tr>\n",
       "  </thead>\n",
       "  <tbody>\n",
       "    <tr>\n",
       "      <th>0</th>\n",
       "      <td>Implementing Boundary Value Analysis of S...</td>\n",
       "      <td>&lt;pre&gt;&lt;code&gt;#include&amp;lt;iostream&amp;gt;\\n#include&amp;...</td>\n",
       "      <td>c++ c</td>\n",
       "      <td>1</td>\n",
       "    </tr>\n",
       "    <tr>\n",
       "      <th>1</th>\n",
       "      <td>Dynamic Datagrid Binding in Silverlight?</td>\n",
       "      <td>&lt;p&gt;I should do binding for datagrid dynamicall...</td>\n",
       "      <td>c# silverlight data-binding</td>\n",
       "      <td>1</td>\n",
       "    </tr>\n",
       "    <tr>\n",
       "      <th>2</th>\n",
       "      <td>Dynamic Datagrid Binding in Silverlight?</td>\n",
       "      <td>&lt;p&gt;I should do binding for datagrid dynamicall...</td>\n",
       "      <td>c# silverlight data-binding columns</td>\n",
       "      <td>1</td>\n",
       "    </tr>\n",
       "    <tr>\n",
       "      <th>3</th>\n",
       "      <td>java.lang.NoClassDefFoundError: javax/serv...</td>\n",
       "      <td>&lt;p&gt;I followed the guide in &lt;a href=\"http://sta...</td>\n",
       "      <td>jsp jstl</td>\n",
       "      <td>1</td>\n",
       "    </tr>\n",
       "    <tr>\n",
       "      <th>4</th>\n",
       "      <td>java.sql.SQLException:[Microsoft][ODBC Dri...</td>\n",
       "      <td>&lt;p&gt;I use the following code&lt;/p&gt;\\n\\n&lt;pre&gt;&lt;code&gt;...</td>\n",
       "      <td>java jdbc</td>\n",
       "      <td>2</td>\n",
       "    </tr>\n",
       "  </tbody>\n",
       "</table>\n",
       "</div>"
      ],
      "text/plain": [
       "                                               Title  \\\n",
       "0       Implementing Boundary Value Analysis of S...   \n",
       "1           Dynamic Datagrid Binding in Silverlight?   \n",
       "2           Dynamic Datagrid Binding in Silverlight?   \n",
       "3      java.lang.NoClassDefFoundError: javax/serv...   \n",
       "4      java.sql.SQLException:[Microsoft][ODBC Dri...   \n",
       "\n",
       "                                                Body  \\\n",
       "0  <pre><code>#include&lt;iostream&gt;\\n#include&...   \n",
       "1  <p>I should do binding for datagrid dynamicall...   \n",
       "2  <p>I should do binding for datagrid dynamicall...   \n",
       "3  <p>I followed the guide in <a href=\"http://sta...   \n",
       "4  <p>I use the following code</p>\\n\\n<pre><code>...   \n",
       "\n",
       "                                  Tags  cnt_dup  \n",
       "0                                c++ c        1  \n",
       "1          c# silverlight data-binding        1  \n",
       "2  c# silverlight data-binding columns        1  \n",
       "3                             jsp jstl        1  \n",
       "4                            java jdbc        2  "
      ]
     },
     "execution_count": 8,
     "metadata": {},
     "output_type": "execute_result"
    }
   ],
   "source": [
    "df_no_dup.head()"
   ]
  },
  {
   "cell_type": "code",
   "execution_count": 9,
   "metadata": {},
   "outputs": [
    {
     "name": "stdout",
     "output_type": "stream",
     "text": [
      "number of duplicate questions : 1827881 ( 30.292038906260256 % )\n"
     ]
    }
   ],
   "source": [
    "print(\"number of duplicate questions :\", num_rows['count(*)'].values[0]- df_no_dup.shape[0], \"(\",(1-((df_no_dup.shape[0])/(num_rows['count(*)'].values[0])))*100,\"% )\")"
   ]
  },
  {
   "cell_type": "code",
   "execution_count": 10,
   "metadata": {},
   "outputs": [
    {
     "data": {
      "text/html": [
       "<div>\n",
       "<style scoped>\n",
       "    .dataframe tbody tr th:only-of-type {\n",
       "        vertical-align: middle;\n",
       "    }\n",
       "\n",
       "    .dataframe tbody tr th {\n",
       "        vertical-align: top;\n",
       "    }\n",
       "\n",
       "    .dataframe thead th {\n",
       "        text-align: right;\n",
       "    }\n",
       "</style>\n",
       "<table border=\"1\" class=\"dataframe\">\n",
       "  <thead>\n",
       "    <tr style=\"text-align: right;\">\n",
       "      <th></th>\n",
       "      <th>Title</th>\n",
       "      <th>Body</th>\n",
       "      <th>Tags</th>\n",
       "      <th>cnt_dup</th>\n",
       "      <th>tag_count</th>\n",
       "    </tr>\n",
       "  </thead>\n",
       "  <tbody>\n",
       "    <tr>\n",
       "      <th>0</th>\n",
       "      <td>Implementing Boundary Value Analysis of S...</td>\n",
       "      <td>&lt;pre&gt;&lt;code&gt;#include&amp;lt;iostream&amp;gt;\\n#include&amp;...</td>\n",
       "      <td>c++ c</td>\n",
       "      <td>1</td>\n",
       "      <td>2</td>\n",
       "    </tr>\n",
       "    <tr>\n",
       "      <th>1</th>\n",
       "      <td>Dynamic Datagrid Binding in Silverlight?</td>\n",
       "      <td>&lt;p&gt;I should do binding for datagrid dynamicall...</td>\n",
       "      <td>c# silverlight data-binding</td>\n",
       "      <td>1</td>\n",
       "      <td>3</td>\n",
       "    </tr>\n",
       "    <tr>\n",
       "      <th>2</th>\n",
       "      <td>Dynamic Datagrid Binding in Silverlight?</td>\n",
       "      <td>&lt;p&gt;I should do binding for datagrid dynamicall...</td>\n",
       "      <td>c# silverlight data-binding columns</td>\n",
       "      <td>1</td>\n",
       "      <td>4</td>\n",
       "    </tr>\n",
       "    <tr>\n",
       "      <th>3</th>\n",
       "      <td>java.lang.NoClassDefFoundError: javax/serv...</td>\n",
       "      <td>&lt;p&gt;I followed the guide in &lt;a href=\"http://sta...</td>\n",
       "      <td>jsp jstl</td>\n",
       "      <td>1</td>\n",
       "      <td>2</td>\n",
       "    </tr>\n",
       "    <tr>\n",
       "      <th>4</th>\n",
       "      <td>java.sql.SQLException:[Microsoft][ODBC Dri...</td>\n",
       "      <td>&lt;p&gt;I use the following code&lt;/p&gt;\\n\\n&lt;pre&gt;&lt;code&gt;...</td>\n",
       "      <td>java jdbc</td>\n",
       "      <td>2</td>\n",
       "      <td>2</td>\n",
       "    </tr>\n",
       "  </tbody>\n",
       "</table>\n",
       "</div>"
      ],
      "text/plain": [
       "                                               Title  \\\n",
       "0       Implementing Boundary Value Analysis of S...   \n",
       "1           Dynamic Datagrid Binding in Silverlight?   \n",
       "2           Dynamic Datagrid Binding in Silverlight?   \n",
       "3      java.lang.NoClassDefFoundError: javax/serv...   \n",
       "4      java.sql.SQLException:[Microsoft][ODBC Dri...   \n",
       "\n",
       "                                                Body  \\\n",
       "0  <pre><code>#include&lt;iostream&gt;\\n#include&...   \n",
       "1  <p>I should do binding for datagrid dynamicall...   \n",
       "2  <p>I should do binding for datagrid dynamicall...   \n",
       "3  <p>I followed the guide in <a href=\"http://sta...   \n",
       "4  <p>I use the following code</p>\\n\\n<pre><code>...   \n",
       "\n",
       "                                  Tags  cnt_dup  tag_count  \n",
       "0                                c++ c        1          2  \n",
       "1          c# silverlight data-binding        1          3  \n",
       "2  c# silverlight data-binding columns        1          4  \n",
       "3                             jsp jstl        1          2  \n",
       "4                            java jdbc        2          2  "
      ]
     },
     "execution_count": 10,
     "metadata": {},
     "output_type": "execute_result"
    }
   ],
   "source": [
    "# adding a new feature number of tags per question\n",
    "df_no_dup[\"tag_count\"] = df_no_dup[\"Tags\"].apply(lambda text: len(str(text).split(\" \")))\n",
    "df_no_dup.head()"
   ]
  },
  {
   "cell_type": "markdown",
   "metadata": {},
   "source": [
    "EDA"
   ]
  },
  {
   "cell_type": "code",
   "execution_count": 11,
   "metadata": {},
   "outputs": [
    {
     "data": {
      "text/plain": [
       "1    2656284\n",
       "2    1272336\n",
       "3     277575\n",
       "4         90\n",
       "5         25\n",
       "6          5\n",
       "Name: cnt_dup, dtype: int64"
      ]
     },
     "execution_count": 11,
     "metadata": {},
     "output_type": "execute_result"
    }
   ],
   "source": [
    "# number of times each question appeared in our database\n",
    "df_no_dup.cnt_dup.value_counts()"
   ]
  },
  {
   "cell_type": "code",
   "execution_count": 12,
   "metadata": {},
   "outputs": [
    {
     "data": {
      "text/plain": [
       "3    1206157\n",
       "2    1111706\n",
       "4     814996\n",
       "1     568298\n",
       "5     505158\n",
       "Name: tag_count, dtype: int64"
      ]
     },
     "execution_count": 12,
     "metadata": {},
     "output_type": "execute_result"
    }
   ],
   "source": [
    "# number of times each question appeared in our database\n",
    "df_no_dup.tag_count.value_counts()"
   ]
  },
  {
   "cell_type": "code",
   "execution_count": 13,
   "metadata": {},
   "outputs": [],
   "source": [
    "#Creating a new database with no duplicates\n",
    "if not os.path.isfile('train_no_dup.db'):\n",
    "    disk_dup = create_engine(\"sqlite:///train_no_dup.db\")\n",
    "    no_dup = pd.DataFrame(df_no_dup, columns=['Title', 'Body', 'Tags'])\n",
    "    no_dup.to_sql('no_dup_train',disk_dup)"
   ]
  },
  {
   "cell_type": "code",
   "execution_count": 14,
   "metadata": {},
   "outputs": [],
   "source": [
    "if os.path.isfile('train_no_dup.db'):\n",
    "    start = datetime.now()\n",
    "    con = sqlite3.connect('train_no_dup.db')\n",
    "    tag_data = pd.read_sql_query(\"\"\"SELECT Tags FROM no_dup_train\"\"\", con)\n",
    "    #Always remember to close the database\n",
    "    con.close()"
   ]
  },
  {
   "cell_type": "code",
   "execution_count": 15,
   "metadata": {},
   "outputs": [
    {
     "data": {
      "text/html": [
       "<div>\n",
       "<style scoped>\n",
       "    .dataframe tbody tr th:only-of-type {\n",
       "        vertical-align: middle;\n",
       "    }\n",
       "\n",
       "    .dataframe tbody tr th {\n",
       "        vertical-align: top;\n",
       "    }\n",
       "\n",
       "    .dataframe thead th {\n",
       "        text-align: right;\n",
       "    }\n",
       "</style>\n",
       "<table border=\"1\" class=\"dataframe\">\n",
       "  <thead>\n",
       "    <tr style=\"text-align: right;\">\n",
       "      <th></th>\n",
       "      <th>Tags</th>\n",
       "    </tr>\n",
       "  </thead>\n",
       "  <tbody>\n",
       "    <tr>\n",
       "      <th>0</th>\n",
       "      <td>c++ c</td>\n",
       "    </tr>\n",
       "    <tr>\n",
       "      <th>1</th>\n",
       "      <td>c# silverlight data-binding</td>\n",
       "    </tr>\n",
       "    <tr>\n",
       "      <th>2</th>\n",
       "      <td>c# silverlight data-binding columns</td>\n",
       "    </tr>\n",
       "    <tr>\n",
       "      <th>3</th>\n",
       "      <td>jsp jstl</td>\n",
       "    </tr>\n",
       "    <tr>\n",
       "      <th>4</th>\n",
       "      <td>java jdbc</td>\n",
       "    </tr>\n",
       "    <tr>\n",
       "      <th>...</th>\n",
       "      <td>...</td>\n",
       "    </tr>\n",
       "    <tr>\n",
       "      <th>4206310</th>\n",
       "      <td>wordpress wordpress-plugin</td>\n",
       "    </tr>\n",
       "    <tr>\n",
       "      <th>4206311</th>\n",
       "      <td>php mysql text</td>\n",
       "    </tr>\n",
       "    <tr>\n",
       "      <th>4206312</th>\n",
       "      <td>php codeigniter character-encoding</td>\n",
       "    </tr>\n",
       "    <tr>\n",
       "      <th>4206313</th>\n",
       "      <td>php email outlook mime</td>\n",
       "    </tr>\n",
       "    <tr>\n",
       "      <th>4206314</th>\n",
       "      <td>html</td>\n",
       "    </tr>\n",
       "  </tbody>\n",
       "</table>\n",
       "<p>4206315 rows × 1 columns</p>\n",
       "</div>"
      ],
      "text/plain": [
       "                                        Tags\n",
       "0                                      c++ c\n",
       "1                c# silverlight data-binding\n",
       "2        c# silverlight data-binding columns\n",
       "3                                   jsp jstl\n",
       "4                                  java jdbc\n",
       "...                                      ...\n",
       "4206310           wordpress wordpress-plugin\n",
       "4206311                       php mysql text\n",
       "4206312   php codeigniter character-encoding\n",
       "4206313               php email outlook mime\n",
       "4206314                                 html\n",
       "\n",
       "[4206315 rows x 1 columns]"
      ]
     },
     "execution_count": 15,
     "metadata": {},
     "output_type": "execute_result"
    }
   ],
   "source": [
    "tag_data"
   ]
  },
  {
   "cell_type": "code",
   "execution_count": 16,
   "metadata": {},
   "outputs": [],
   "source": [
    "# Let's now drop unwanted row.\n",
    "# tag_data.drop(tag_data.index[0], inplace=True)"
   ]
  },
  {
   "cell_type": "code",
   "execution_count": 17,
   "metadata": {},
   "outputs": [],
   "source": [
    "# tag_data.head()"
   ]
  },
  {
   "cell_type": "code",
   "execution_count": 18,
   "metadata": {},
   "outputs": [],
   "source": [
    "tag_data[\"Tags\"] = tag_data[\"Tags\"].apply(lambda text : str(text))"
   ]
  },
  {
   "cell_type": "markdown",
   "metadata": {},
   "source": [
    "Tag Analysis"
   ]
  },
  {
   "cell_type": "code",
   "execution_count": 19,
   "metadata": {},
   "outputs": [],
   "source": [
    "vectorizer = CountVectorizer(tokenizer = lambda x: x.split())\n",
    "tag_dtm = vectorizer.fit_transform(tag_data['Tags'])"
   ]
  },
  {
   "cell_type": "code",
   "execution_count": 20,
   "metadata": {},
   "outputs": [
    {
     "name": "stdout",
     "output_type": "stream",
     "text": [
      "Number of data points : 4206315\n",
      "Number of unique tags : 42049\n"
     ]
    }
   ],
   "source": [
    "print(\"Number of data points :\", tag_dtm.shape[0])\n",
    "print(\"Number of unique tags :\", tag_dtm.shape[1])"
   ]
  },
  {
   "cell_type": "markdown",
   "metadata": {},
   "source": [
    "<h2>Cleaning and Preprocessing</h2>"
   ]
  },
  {
   "cell_type": "markdown",
   "metadata": {},
   "source": [
    "<ol> \n",
    "    <li> Sample 1M data points </li>\n",
    "    <li> Separate out code-snippets from Body </li>\n",
    "    <li> Remove Spcial characters from Question title and description (not in code)</li>\n",
    "    <li> Remove stop words (Except 'C') </li>\n",
    "    <li> Remove HTML Tags </li>\n",
    "    <li> Convert all the characters into small letters </li>\n",
    "    <li> Use SnowballStemmer to stem the words </li>\n",
    "</ol>"
   ]
  },
  {
   "cell_type": "code",
   "execution_count": 21,
   "metadata": {},
   "outputs": [],
   "source": [
    "def striphtml(data):\n",
    "    cleanr = re.compile('<.*?>')\n",
    "    cleantext = re.sub(cleanr, ' ', str(data))\n",
    "    return cleantext\n",
    "stop_words = set(stopwords.words('english'))\n",
    "stemmer = SnowballStemmer(\"english\")"
   ]
  },
  {
   "cell_type": "code",
   "execution_count": 22,
   "metadata": {},
   "outputs": [],
   "source": [
    "def create_connection(db_file):\n",
    "    try:\n",
    "        conn = sqlite3.connect(db_file)\n",
    "        return conn\n",
    "    except Error as e:\n",
    "        print(e) \n",
    "    return None\n",
    "\n",
    "def create_table(conn, create_table_sql):\n",
    "    try:\n",
    "        c = conn.cursor()\n",
    "        c.execute(create_table_sql)\n",
    "    except Error as e:\n",
    "        print(e)\n",
    "        \n",
    "def checkTableExists(dbcon):\n",
    "    cursr = dbcon.cursor()\n",
    "    str = \"select name from sqlite_master where type='table'\"\n",
    "    table_names = cursr.execute(str)\n",
    "    print(\"Tables in the databse:\")\n",
    "    tables =table_names.fetchall() \n",
    "    print(tables[0][0])\n",
    "    return(len(tables))\n",
    "\n",
    "def create_database_table(database, query):\n",
    "    conn = create_connection(database)\n",
    "    if conn is not None:\n",
    "        create_table(conn, query)\n",
    "        checkTableExists(conn)\n",
    "    else:\n",
    "        print(\"Error! cannot create the database connection.\")\n",
    "    conn.close()"
   ]
  },
  {
   "cell_type": "code",
   "execution_count": 23,
   "metadata": {},
   "outputs": [
    {
     "name": "stdout",
     "output_type": "stream",
     "text": [
      "Tables in the databse:\n",
      "QuestionsProcessed\n"
     ]
    }
   ],
   "source": [
    "sql_create_table = \"\"\"CREATE TABLE IF NOT EXISTS QuestionsProcessed (question text NOT NULL, code text, tags text, words_pre integer, words_post integer, is_code integer);\"\"\"\n",
    "create_database_table(\"Processed.db\", sql_create_table)"
   ]
  },
  {
   "cell_type": "code",
   "execution_count": 24,
   "metadata": {},
   "outputs": [
    {
     "name": "stdout",
     "output_type": "stream",
     "text": [
      "Tables in the databse:\n",
      "QuestionsProcessed\n",
      "Cleared All the rows\n"
     ]
    }
   ],
   "source": [
    "read_db = 'train_no_dup.db'\n",
    "write_db = 'Processed.db'\n",
    "if os.path.isfile(read_db):\n",
    "    conn_r = create_connection(read_db)\n",
    "    if conn_r is not None:\n",
    "        reader =conn_r.cursor()\n",
    "        reader.execute(\"SELECT Title, Body, Tags From no_dup_train ORDER BY RANDOM() LIMIT 1000000;\")\n",
    "\n",
    "if os.path.isfile(write_db):\n",
    "    conn_w = create_connection(write_db)\n",
    "    if conn_w is not None:\n",
    "        tables = checkTableExists(conn_w)\n",
    "        writer =conn_w.cursor()\n",
    "        if tables != 0:\n",
    "            writer.execute(\"DELETE FROM QuestionsProcessed WHERE 1\")\n",
    "            print(\"Cleared All the rows\")"
   ]
  },
  {
   "cell_type": "code",
   "execution_count": 27,
   "metadata": {},
   "outputs": [
    {
     "name": "stdout",
     "output_type": "stream",
     "text": [
      "number of questions completed= 100000\n",
      "number of questions completed= 200000\n",
      "number of questions completed= 300000\n",
      "number of questions completed= 400000\n",
      "number of questions completed= 500000\n",
      "number of questions completed= 600000\n",
      "number of questions completed= 700000\n",
      "number of questions completed= 800000\n",
      "number of questions completed= 900000\n",
      "Avg. length of questions(Title+Body) before processing: 1169\n",
      "Avg. length of questions(Title+Body) after processing: 326\n",
      "Percent of questions containing code: 57\n",
      "Time taken to run this cell : 0:30:59.220067\n"
     ]
    }
   ],
   "source": [
    "preprocessed_data_list=[]\n",
    "reader.fetchone()\n",
    "questions_with_code=0\n",
    "len_pre=0\n",
    "len_post=0\n",
    "questions_proccesed = 0\n",
    "for row in reader:\n",
    "\n",
    "    is_code = 0\n",
    "\n",
    "    title, question, tags = row[0], row[1], row[2]\n",
    "\n",
    "    if '<code>' in question:\n",
    "        questions_with_code+=1\n",
    "        is_code = 1\n",
    "    x = len(question)+len(title)\n",
    "    len_pre+=x\n",
    "\n",
    "    code = str(re.findall(r'<code>(.*?)</code>', question, flags=re.DOTALL))\n",
    "\n",
    "    question=re.sub('<code>(.*?)</code>', '', question, flags=re.MULTILINE|re.DOTALL)\n",
    "    question=striphtml(question.encode('utf-8'))\n",
    "\n",
    "    title=title.encode('utf-8')\n",
    "\n",
    "    question=str(title)+\" \"+str(question)\n",
    "    question=re.sub(r'[^A-Za-z]+',' ',question)\n",
    "    words=word_tokenize(str(question.lower()))\n",
    "\n",
    "    #Removing all single letter and and stopwords from question exceptt for the letter 'c'\n",
    "    question=' '.join(str(stemmer.stem(j)) for j in words if j not in stop_words and (len(j)!=1 or j=='c'))\n",
    "\n",
    "    len_post+=len(question)\n",
    "    tup = (question,code,tags,x,len(question),is_code)\n",
    "    questions_proccesed += 1\n",
    "    writer.execute(\"insert into QuestionsProcessed(question,code,tags,words_pre,words_post,is_code) values (?,?,?,?,?,?)\",tup)\n",
    "    if (questions_proccesed%100000==0):\n",
    "        print(\"number of questions completed=\",questions_proccesed)\n",
    "\n",
    "no_dup_avg_len_pre=(len_pre*1.0)/questions_proccesed\n",
    "no_dup_avg_len_post=(len_post*1.0)/questions_proccesed\n",
    "\n",
    "print( \"Avg. length of questions(Title+Body) before processing: %d\"%no_dup_avg_len_pre)\n",
    "print( \"Avg. length of questions(Title+Body) after processing: %d\"%no_dup_avg_len_post)\n",
    "print (\"Percent of questions containing code: %d\"%((questions_with_code*100.0)/questions_proccesed))\n",
    "\n",
    "print(\"Time taken to run this cell :\", datetime.now() - start)"
   ]
  },
  {
   "cell_type": "code",
   "execution_count": 28,
   "metadata": {},
   "outputs": [],
   "source": [
    "# dont forget to close the connections, or else you will end up with locks\n",
    "conn_r.commit()\n",
    "conn_w.commit()\n",
    "conn_r.close()\n",
    "conn_w.close()"
   ]
  },
  {
   "cell_type": "code",
   "execution_count": 29,
   "metadata": {},
   "outputs": [
    {
     "name": "stdout",
     "output_type": "stream",
     "text": [
      "Questions after preprocessed\n",
      "====================================================================================================\n",
      "('shutdown hook execut applic launch use javaw exe use javaw exe launch java applic shutdown hook execut user log window account applic actual launch use launch generat exe file know use javaw exe start seem known bug http bug sun com bugdatabas view bug bug id anyon els problem fix thank',)\n",
      "----------------------------------------------------------------------------------------------------\n",
      "('fragment size ext filesystem output dump fs relat disk fragment',)\n",
      "----------------------------------------------------------------------------------------------------\n",
      "('boost thread pass scope lock calle new boost thread librari situat acquir scope lock one function need wait calle code line basic function need access scope lock acquir wait thread notifi direct wait mutex instead lock help appreici thank',)\n",
      "----------------------------------------------------------------------------------------------------\n",
      "('bash cron redirect restor stdout stderr produc permiss deni got script call bunch command noisi stdout stderr intend script run cron want noisi mail everi day error condit intent get specif meaning messag error noth otherwis see run command line work run via cron give permiss deni messag unclear',)\n",
      "----------------------------------------------------------------------------------------------------\n",
      "('ad soap header php wsdl php complet newb php program task write exampl php web servic client consum compani web servic written java two type servic requir authent use wsdl php librari success communic servic need authent secur servic requir add soap header request look like problem got idea wsdl php even possibl php file current use test need somehow attach usernam password header request idea look wsdl php site littl term document use librari help would appreci thank andrew',)\n",
      "----------------------------------------------------------------------------------------------------\n",
      "('wordwrap make page blank use page appear blank exact case php ini disabl enabl that error realli know happen use show text fine problem edit use function seem work still see one long line fill wrap text',)\n",
      "----------------------------------------------------------------------------------------------------\n",
      "('rubi class object garbag collect rubi class object class class sinc class also object rubi vm follow garbag collect strategi class object determin class object safe garbag collect thank',)\n",
      "----------------------------------------------------------------------------------------------------\n",
      "('convert opencv python c object c found nice code abid rahman detect rectangl imag opencv c obj c advanc squar detect nnow code python would like convert object c c work miss updat program run select imag crash get error',)\n",
      "----------------------------------------------------------------------------------------------------\n",
      "('trayicon displaymessag text size java first post forum realli hope answer asap new java love tri differ thing often thought make simpl balloon messag applic java pop certain time system tray convey differ messag time wonder could chang text size balloon messag also somebodi help time interv delay messag appear disappear code tri pleas ponder bit help problem',)\n",
      "----------------------------------------------------------------------------------------------------\n"
     ]
    }
   ],
   "source": [
    "if os.path.isfile(write_db):\n",
    "    conn_r = create_connection(write_db)\n",
    "    if conn_r is not None:\n",
    "        reader =conn_r.cursor()\n",
    "        reader.execute(\"SELECT question From QuestionsProcessed LIMIT 10\")\n",
    "        print(\"Questions after preprocessed\")\n",
    "        print('='*100)\n",
    "        reader.fetchone()\n",
    "        for row in reader:\n",
    "            print(row)\n",
    "            print('-'*100)\n",
    "conn_r.commit()\n",
    "conn_r.close()"
   ]
  },
  {
   "cell_type": "code",
   "execution_count": 30,
   "metadata": {},
   "outputs": [],
   "source": [
    "#Taking 1 Million entries to a dataframe.\n",
    "write_db = 'Processed.db'\n",
    "if os.path.isfile(write_db):\n",
    "    conn_r = create_connection(write_db)\n",
    "    if conn_r is not None:\n",
    "        preprocessed_data = pd.read_sql_query(\"\"\"SELECT question, Tags FROM QuestionsProcessed\"\"\", conn_r)\n",
    "conn_r.commit()\n",
    "conn_r.close()"
   ]
  },
  {
   "cell_type": "code",
   "execution_count": 31,
   "metadata": {},
   "outputs": [
    {
     "data": {
      "text/html": [
       "<div>\n",
       "<style scoped>\n",
       "    .dataframe tbody tr th:only-of-type {\n",
       "        vertical-align: middle;\n",
       "    }\n",
       "\n",
       "    .dataframe tbody tr th {\n",
       "        vertical-align: top;\n",
       "    }\n",
       "\n",
       "    .dataframe thead th {\n",
       "        text-align: right;\n",
       "    }\n",
       "</style>\n",
       "<table border=\"1\" class=\"dataframe\">\n",
       "  <thead>\n",
       "    <tr style=\"text-align: right;\">\n",
       "      <th></th>\n",
       "      <th>question</th>\n",
       "      <th>tags</th>\n",
       "    </tr>\n",
       "  </thead>\n",
       "  <tbody>\n",
       "    <tr>\n",
       "      <th>0</th>\n",
       "      <td>use find packag includ network librari cpp net...</td>\n",
       "      <td>boost cmake shared-libraries cpp-netlib</td>\n",
       "    </tr>\n",
       "    <tr>\n",
       "      <th>1</th>\n",
       "      <td>shutdown hook execut applic launch use javaw e...</td>\n",
       "      <td>java windows</td>\n",
       "    </tr>\n",
       "    <tr>\n",
       "      <th>2</th>\n",
       "      <td>fragment size ext filesystem output dump fs re...</td>\n",
       "      <td>filesystems ext3</td>\n",
       "    </tr>\n",
       "    <tr>\n",
       "      <th>3</th>\n",
       "      <td>boost thread pass scope lock calle new boost t...</td>\n",
       "      <td>c++ boost boost-thread boost-mutex scoped-lock</td>\n",
       "    </tr>\n",
       "    <tr>\n",
       "      <th>4</th>\n",
       "      <td>bash cron redirect restor stdout stderr produc...</td>\n",
       "      <td>bash cron stdout stderr</td>\n",
       "    </tr>\n",
       "  </tbody>\n",
       "</table>\n",
       "</div>"
      ],
      "text/plain": [
       "                                            question  \\\n",
       "0  use find packag includ network librari cpp net...   \n",
       "1  shutdown hook execut applic launch use javaw e...   \n",
       "2  fragment size ext filesystem output dump fs re...   \n",
       "3  boost thread pass scope lock calle new boost t...   \n",
       "4  bash cron redirect restor stdout stderr produc...   \n",
       "\n",
       "                                             tags  \n",
       "0         boost cmake shared-libraries cpp-netlib  \n",
       "1                                    java windows  \n",
       "2                                filesystems ext3  \n",
       "3  c++ boost boost-thread boost-mutex scoped-lock  \n",
       "4                         bash cron stdout stderr  "
      ]
     },
     "execution_count": 31,
     "metadata": {},
     "output_type": "execute_result"
    }
   ],
   "source": [
    "preprocessed_data.head()"
   ]
  },
  {
   "cell_type": "code",
   "execution_count": 32,
   "metadata": {},
   "outputs": [
    {
     "name": "stdout",
     "output_type": "stream",
     "text": [
      "number of data points in sample : 999997\n",
      "number of dimensions : 2\n"
     ]
    }
   ],
   "source": [
    "print(\"number of data points in sample :\", preprocessed_data.shape[0])\n",
    "print(\"number of dimensions :\", preprocessed_data.shape[1])"
   ]
  }
 ],
 "metadata": {
  "kernelspec": {
   "display_name": "Python 3.10.8 64-bit (microsoft store)",
   "language": "python",
   "name": "python3"
  },
  "language_info": {
   "codemirror_mode": {
    "name": "ipython",
    "version": 3
   },
   "file_extension": ".py",
   "mimetype": "text/x-python",
   "name": "python",
   "nbconvert_exporter": "python",
   "pygments_lexer": "ipython3",
   "version": "3.10.8"
  },
  "orig_nbformat": 4,
  "vscode": {
   "interpreter": {
    "hash": "fc6313414460692e2a424730460eaeeb0ce6c3c65e5e2edac66a1d48e7a78334"
   }
  }
 },
 "nbformat": 4,
 "nbformat_minor": 2
}
